{
  "nbformat": 4,
  "nbformat_minor": 0,
  "metadata": {
    "colab": {
      "provenance": [],
      "authorship_tag": "ABX9TyNtPTLt4llMTexuoPGhUvEa",
      "include_colab_link": true
    },
    "kernelspec": {
      "name": "python3",
      "display_name": "Python 3"
    },
    "language_info": {
      "name": "python"
    }
  },
  "cells": [
    {
      "cell_type": "markdown",
      "metadata": {
        "id": "view-in-github",
        "colab_type": "text"
      },
      "source": [
        "<a href=\"https://colab.research.google.com/github/Pawarsnehal16/Mind-Reader-Game/blob/main/Mind_Reader_Game.ipynb\" target=\"_parent\"><img src=\"https://colab.research.google.com/assets/colab-badge.svg\" alt=\"Open In Colab\"/></a>"
      ]
    },
    {
      "cell_type": "code",
      "execution_count": 1,
      "metadata": {
        "colab": {
          "base_uri": "https://localhost:8080/"
        },
        "id": "Goc5HPQDVHdV",
        "outputId": "34f2bf16-1f3f-46d1-f8c3-71f2301823b7"
      },
      "outputs": [
        {
          "output_type": "stream",
          "name": "stdout",
          "text": [
            "Keep a number in mind\n",
            "Press any key for next instructions \n",
            "multiply the number by 5 \n",
            "Press any key for next instructions \n",
            "add 5 to your answer \n",
            "Press any key for next instructions \n",
            "multiply your answer by 2 \n",
            "Press any key for next instructions \n",
            "add 2 to your answer\n",
            "Press any key for next instructions \n",
            "Final calculation 32\n",
            "The number you kept in mind is  2\n"
          ]
        }
      ],
      "source": [
        "\n",
        "print ('Keep a number in mind')\n",
        "x=input('Press any key for next instructions ')\n",
        "\n",
        "print ('multiply the number by 5 ')\n",
        "x=input('Press any key for next instructions ')\n",
        "\n",
        "print ('add 5 to your answer ')\n",
        "x=input('Press any key for next instructions ')\n",
        "\n",
        "print('multiply your answer by 2 ')\n",
        "x=input('Press any key for next instructions ')\n",
        "\n",
        "print('add 2 to your answer')\n",
        "x=input('Press any key for next instructions ')\n",
        "while True :\n",
        "    a=(input('Final calculation '))\n",
        "    x=a[0:len(a)-1]\n",
        "    c=int(x)-1\n",
        "    b=((((int(a)-2)/2)-5)/5)\n",
        "    if c==b:\n",
        "      print('The number you kept in mind is ', c)\n",
        "      break\n",
        "    else:\n",
        "      print('Your calculation is wrong, please try again')\n",
        "      continue"
      ]
    },
    {
      "cell_type": "code",
      "source": [
        "\n",
        "\n",
        "\n",
        "\n",
        "\n",
        "\n",
        "\n",
        "\n"
      ],
      "metadata": {
        "id": "XnyT99rVZgBR"
      },
      "execution_count": null,
      "outputs": []
    }
  ]
}